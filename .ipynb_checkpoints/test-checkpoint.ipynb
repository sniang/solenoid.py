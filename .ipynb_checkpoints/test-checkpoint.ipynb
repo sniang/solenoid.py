{
 "cells": [
  {
   "cell_type": "code",
   "execution_count": null,
   "metadata": {},
   "outputs": [],
   "source": [
    "from Solenoid import *\n",
    "from Tile import *\n",
    "import numpy as np"
   ]
  },
  {
   "cell_type": "code",
   "execution_count": null,
   "metadata": {},
   "outputs": [],
   "source": [
    "# create a tile and compute the field\n",
    "r0 = 2\n",
    "tile = Tile(1,0,0,0,r0)\n",
    "Bx, By, Bz = tile.field(1,1,1)\n",
    "print(Bx, By, Bz)"
   ]
  },
  {
   "cell_type": "code",
   "execution_count": null,
   "metadata": {},
   "outputs": [],
   "source": [
    "# warning : you cannot estimate the field on the tile\n",
    "x0 = np.sqrt(r0)\n",
    "y0 = x0\n",
    "Bx, By, Bz = tile.field(x0, y0, 0)\n",
    "print(Bx, By, Bz)"
   ]
  },
  {
   "cell_type": "code",
   "execution_count": null,
   "metadata": {},
   "outputs": [],
   "source": [
    "# display the tile\n",
    "tile = Tile(1,1,2,3,5)\n",
    "fig = tile.displayTile()\n",
    "fig.savefig(\"tile.png\")"
   ]
  },
  {
   "cell_type": "code",
   "execution_count": null,
   "metadata": {},
   "outputs": [],
   "source": [
    "# display the field created by a tile in 2D\n",
    "tile = Tile(1,1,2,3,5)\n",
    "fig = tile.displayField2D(figsize=(8,8))\n",
    "fig.savefig(\"2D.png\")"
   ]
  },
  {
   "cell_type": "code",
   "execution_count": null,
   "metadata": {},
   "outputs": [],
   "source": [
    "# display the field created by a tile in 3D\n",
    "tile = Tile(1,1,2,3,5)\n",
    "fig = tile.displayField3D()\n",
    "fig.savefig(\"3D.png\")"
   ]
  },
  {
   "cell_type": "code",
   "execution_count": null,
   "metadata": {},
   "outputs": [],
   "source": [
    "# create a solenoid and compute the field\n",
    "sol = Solenoid(r0=0.5)\n",
    "l = np.linspace(-1,1,10)\n",
    "x, y, z = np.meshgrid(l,l,l)\n",
    "Bx, By, Bz = sol.field(x, y, z)"
   ]
  },
  {
   "cell_type": "code",
   "execution_count": null,
   "metadata": {},
   "outputs": [],
   "source": [
    "# To export a field map as a .txt file\n",
    "sol = Solenoid(n=50)\n",
    "sol.exportFieldMap(\"output_main.txt\",-1,1,-1,1,-1,1,20)"
   ]
  },
  {
   "cell_type": "code",
   "execution_count": null,
   "metadata": {},
   "outputs": [],
   "source": [
    "# To export the field computed in some points as a .txt file\n",
    "z = np.linspace(-2,2,20)\n",
    "x = np.zeros_like(z)\n",
    "y = np.zeros_like(z)\n",
    "sol = Solenoid(n=40)\n",
    "sol.exportField(\"output.txt\",x,y,z)"
   ]
  },
  {
   "cell_type": "code",
   "execution_count": null,
   "metadata": {},
   "outputs": [],
   "source": [
    "# display the solenoid\n",
    "sol = Solenoid(n=100)\n",
    "fig = sol.displaySolenoid()\n",
    "fig.savefig(\"sol.png\")"
   ]
  },
  {
   "cell_type": "code",
   "execution_count": null,
   "metadata": {},
   "outputs": [],
   "source": [
    "# display the field created by a solenoid in 2D\n",
    "sol = Solenoid(n=100)\n",
    "fig = sol.displayField2D(figsize=(8,8))\n",
    "fig.savefig(\"sol_2D.png\")"
   ]
  },
  {
   "cell_type": "code",
   "execution_count": null,
   "metadata": {},
   "outputs": [],
   "source": [
    "# display the field created by a solenoid in 3D\n",
    "sol = Solenoid(n = 50)\n",
    "fig = sol.displayField3D()\n",
    "fig.savefig(\"sol_3D.png\")"
   ]
  }
 ],
 "metadata": {
  "kernelspec": {
   "display_name": "Python 3",
   "language": "python",
   "name": "python3"
  },
  "language_info": {
   "codemirror_mode": {
    "name": "ipython",
    "version": 3
   },
   "file_extension": ".py",
   "mimetype": "text/x-python",
   "name": "python",
   "nbconvert_exporter": "python",
   "pygments_lexer": "ipython3",
   "version": "3.6.4"
  }
 },
 "nbformat": 4,
 "nbformat_minor": 2
}
